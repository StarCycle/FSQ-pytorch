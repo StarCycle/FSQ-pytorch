{
  "cells": [
    {
      "cell_type": "markdown",
      "metadata": {
        "id": "h8Xy0vuPg-gS"
      },
      "source": [
        "```\n",
        "Copyright 2023 Google LLC\n",
        "\n",
        "Licensed under the Apache License, Version 2.0 (the \"License\");\n",
        "you may not use this file except in compliance with the License.\n",
        "You may obtain a copy of the License at\n",
        "\n",
        "    https://www.apache.org/licenses/LICENSE-2.0\n",
        "\n",
        "Unless required by applicable law or agreed to in writing, software\n",
        "distributed under the License is distributed on an \"AS IS\" BASIS,\n",
        "WITHOUT WARRANTIES OR CONDITIONS OF ANY KIND, either express or implied.\n",
        "See the License for the specific language governing permissions and\n",
        "limitations under the License.\n",
        "```"
      ]
    },
    {
      "cell_type": "markdown",
      "source": [
        "# Pytorch FSQ"
      ],
      "metadata": {
        "id": "ChicPC3QxvnB"
      }
    },
    {
      "cell_type": "code",
      "source": [
        "!pip install einops"
      ],
      "metadata": {
        "id": "FyqUYm2-xzpN"
      },
      "execution_count": null,
      "outputs": []
    },
    {
      "cell_type": "code",
      "source": [
        "from typing import List, Optional\n",
        "import torch\n",
        "import torch.nn as nn\n",
        "from torch.nn import Module\n",
        "from torch import Tensor, int32\n",
        "from einops import rearrange\n",
        "\n",
        "def round_ste(z: Tensor) -> Tensor:\n",
        "    \"\"\"Round with straight through gradients.\"\"\"\n",
        "    zhat = z.round()\n",
        "    return z + (zhat - z).detach()\n",
        "\n",
        "# main class\n",
        "class FSQ(Module):\n",
        "    def __init__(\n",
        "        self,\n",
        "        levels: List[int],\n",
        "        eps: float = 1e-3,\n",
        "    ):\n",
        "        super().__init__()\n",
        "        self._eps = eps\n",
        "\n",
        "        _levels = torch.tensor(levels, dtype=int32)\n",
        "        self.register_buffer(\"_levels\", _levels, persistent = False)\n",
        "\n",
        "        _basis = torch.cumprod(torch.tensor([1] + levels[:-1]), dim=0, dtype=int32)\n",
        "        self.register_buffer(\"_basis\", _basis, persistent = False)\n",
        "\n",
        "        self.codebook_dim = len(levels)\n",
        "        self.codebook_size = self._levels.prod().item()\n",
        "\n",
        "        implicit_codebook = self.indices_to_codes(torch.arange(self.codebook_size), project_out = False)\n",
        "        self.register_buffer(\"implicit_codebook\", implicit_codebook, persistent = False)\n",
        "\n",
        "    def bound(self, z: Tensor) -> Tensor:\n",
        "        \"\"\"Bound `z`, an array of shape (..., d).\"\"\"\n",
        "        half_l = (self._levels - 1) * (1 - self._eps) / 2\n",
        "        offset = torch.where(self._levels % 2 == 1.0, 0.0, 0.5)\n",
        "        shift = (offset / half_l).tan()\n",
        "        return (z + shift).tanh() * half_l - offset\n",
        "\n",
        "    def quantize(self, z: Tensor) -> Tensor:\n",
        "        \"\"\"Quantizes z, returns quantized zhat, same shape as z.\"\"\"\n",
        "        quantized = round_ste(self.bound(z))\n",
        "        half_width = self._levels // 2 # Renormalize to [-1, 1].\n",
        "        return quantized / half_width\n",
        "\n",
        "    def _scale_and_shift(self, zhat_normalized: Tensor) -> Tensor:\n",
        "        # Scale and shift to range [0, ..., L-1]\n",
        "        half_width = self._levels // 2\n",
        "        return (zhat_normalized * half_width) + half_width\n",
        "\n",
        "    def _scale_and_shift_inverse(self, zhat: Tensor) -> Tensor:\n",
        "        half_width = self._levels // 2\n",
        "        return (zhat - half_width) / half_width\n",
        "\n",
        "    def codes_to_indices(self, zhat: Tensor) -> Tensor:\n",
        "        \"\"\"Converts a `code` to an index in the codebook.\"\"\"\n",
        "        assert zhat.shape[-1] == self.codebook_dim\n",
        "        zhat = self._scale_and_shift(zhat)\n",
        "        return (zhat * self._basis).sum(dim=-1).to(int32)\n",
        "\n",
        "    def indices_to_codes(\n",
        "        self,\n",
        "        indices: Tensor,\n",
        "        project_out = True\n",
        "    ) -> Tensor:\n",
        "        \"\"\"Inverse of `codes_to_indices`.\"\"\"\n",
        "        indices = rearrange(indices, '... -> ... 1')\n",
        "        codes_non_centered = (indices // self._basis) % self._levels\n",
        "        codes = self._scale_and_shift_inverse(codes_non_centered)\n",
        "        return codes"
      ],
      "metadata": {
        "id": "q_jEE-kLx1lA"
      },
      "execution_count": null,
      "outputs": []
    },
    {
      "cell_type": "markdown",
      "metadata": {
        "id": "c_XzbBLngvoM"
      },
      "source": [
        "# Jax FSQ\n",
        "\n"
      ]
    },
    {
      "cell_type": "code",
      "execution_count": null,
      "metadata": {
        "id": "bmQq4IJKBSiO"
      },
      "outputs": [],
      "source": [
        "import itertools\n",
        "import jax\n",
        "import jax.numpy as jnp\n",
        "import numpy as np"
      ]
    },
    {
      "cell_type": "code",
      "execution_count": null,
      "metadata": {
        "id": "LK5u500Vad2P"
      },
      "outputs": [],
      "source": [
        "Codeword = jax.Array\n",
        "Indices = jax.Array\n",
        "\n",
        "\n",
        "def round_ste(z):\n",
        "  \"\"\"Round with straight through gradients.\"\"\"\n",
        "  zhat = jnp.round(z)\n",
        "  return z + jax.lax.stop_gradient(zhat - z)\n",
        "\n",
        "\n",
        "class FSQ:\n",
        "  \"\"\"Quantizer.\"\"\"\n",
        "\n",
        "  def __init__(self, levels: list[int], eps: float = 1e-3):\n",
        "    self._levels = levels\n",
        "    self._eps = eps\n",
        "    self._levels_np = np.asarray(levels)\n",
        "    self._basis = np.concatenate(\n",
        "        ([1], np.cumprod(self._levels_np[:-1]))).astype(np.uint32)\n",
        "\n",
        "    self._implicit_codebook = self.indexes_to_codes(\n",
        "        np.arange(self.codebook_size))\n",
        "\n",
        "  @property\n",
        "  def num_dimensions(self) -> int:\n",
        "    \"\"\"Number of dimensions expected from inputs.\"\"\"\n",
        "    return len(self._levels)\n",
        "\n",
        "  @property\n",
        "  def codebook_size(self) -> int:\n",
        "    \"\"\"Size of the codebook.\"\"\"\n",
        "    return np.prod(self._levels)\n",
        "\n",
        "  @property\n",
        "  def codebook(self):\n",
        "    \"\"\"Returns the implicit codebook. Shape (prod(levels), num_dimensions).\"\"\"\n",
        "    return self._implicit_codebook\n",
        "\n",
        "  def bound(self, z: jax.Array) -> jax.Array:\n",
        "    \"\"\"Bound `z`, an array of shape (..., d).\"\"\"\n",
        "    half_l = (self._levels_np - 1) * (1 - self._eps) / 2\n",
        "    offset = jnp.where(self._levels_np % 2 == 1, 0.0, 0.5)\n",
        "    shift = jnp.tan(offset / half_l)\n",
        "    return jnp.tanh(z + shift) * half_l - offset\n",
        "\n",
        "  def quantize(self, z: jax.Array) -> Codeword:\n",
        "    \"\"\"Quanitzes z, returns quantized zhat, same shape as z.\"\"\"\n",
        "    quantized = round_ste(self.bound(z))\n",
        "\n",
        "    # Renormalize to [-1, 1].\n",
        "    half_width = self._levels_np // 2\n",
        "    return quantized / half_width\n",
        "\n",
        "  def _scale_and_shift(self, zhat_normalized):\n",
        "    # Scale and shift to range [0, ..., L-1]\n",
        "    half_width = self._levels_np // 2\n",
        "    return (zhat_normalized * half_width) + half_width\n",
        "\n",
        "  def _scale_and_shift_inverse(self, zhat):\n",
        "    half_width = self._levels_np // 2\n",
        "    return (zhat - half_width) / half_width\n",
        "\n",
        "  def codes_to_indexes(self, zhat: Codeword) -> Indices:\n",
        "    \"\"\"Converts a `code` to an index in the codebook.\"\"\"\n",
        "    assert zhat.shape[-1] == self.num_dimensions\n",
        "    zhat = self._scale_and_shift(zhat)\n",
        "    return (zhat * self._basis).sum(axis=-1).astype(jnp.uint32)\n",
        "\n",
        "  def indexes_to_codes(self, indices: Indices) -> Codeword:\n",
        "    \"\"\"Inverse of `indexes_to_codes`.\"\"\"\n",
        "    indices = indices[..., jnp.newaxis]\n",
        "    codes_non_centered = np.mod(\n",
        "        np.floor_divide(indices, self._basis), self._levels_np\n",
        "    )\n",
        "    return self._scale_and_shift_inverse(codes_non_centered)"
      ]
    },
    {
      "cell_type": "markdown",
      "metadata": {
        "id": "X0JkjUv6Rl0Z"
      },
      "source": [
        "# Example usage"
      ]
    },
    {
      "cell_type": "code",
      "execution_count": null,
      "metadata": {
        "id": "PkrLkcvbRnbN"
      },
      "outputs": [],
      "source": [
        "fsq = FSQ(levels=[3, 5, 4])\n",
        "\n",
        "z = torch.tensor([0.25, 0.6, -7])\n",
        "zhat = fsq.quantize(z)\n",
        "print(f\"Quantized {z} -> {zhat}\")\n",
        "\n",
        "# We can map to an index in the codebook.\n",
        "idx = fsq.codes_to_indices(zhat)\n",
        "print(f\"Code {zhat} is the {idx}-th index.\")\n",
        "\n",
        "# Back to code\n",
        "code_out = fsq.indices_to_codes(idx)\n",
        "print(f\"Index {idx} mapped back to {zhat}.\")"
      ]
    },
    {
      "cell_type": "markdown",
      "metadata": {
        "id": "DnQBFfftSmyy"
      },
      "source": [
        "# Quantizing a multi-dimensional bottleneck"
      ]
    },
    {
      "cell_type": "code",
      "execution_count": null,
      "metadata": {
        "id": "kkJxytDvSqqL"
      },
      "outputs": [],
      "source": [
        "import numpy as np\n",
        "\n",
        "fsq = FSQ(levels=[5, 4, 3])\n",
        "\n",
        "d = fsq.codebook_dim\n",
        "z = torch.rand(3, 8, 8, d)\n",
        "zhat = fsq.quantize(z)\n",
        "assert zhat.shape == (3, 8, 8, d)\n",
        "\n",
        "indices = fsq.codes_to_indices(zhat)\n",
        "assert indices.shape == (3, 8, 8)\n",
        "\n",
        "zhat_out = fsq.indices_to_codes(indices)\n",
        "assert zhat_out.shape == zhat.shape\n",
        "\n",
        "np.testing.assert_allclose(zhat.numpy(), zhat_out.numpy())"
      ]
    },
    {
      "cell_type": "markdown",
      "metadata": {
        "id": "i5BuPjRsTbjK"
      },
      "source": [
        "# Validating codebook"
      ]
    },
    {
      "cell_type": "code",
      "execution_count": null,
      "metadata": {
        "id": "epeDl8MmRqSj"
      },
      "outputs": [],
      "source": [
        "fsq = FSQ(levels=[3, 4])\n",
        "print(fsq.implicit_codebook)"
      ]
    }
  ],
  "metadata": {
    "colab": {
      "private_outputs": true,
      "provenance": []
    },
    "kernelspec": {
      "display_name": "Python 3",
      "name": "python3"
    },
    "language_info": {
      "name": "python"
    }
  },
  "nbformat": 4,
  "nbformat_minor": 0
}